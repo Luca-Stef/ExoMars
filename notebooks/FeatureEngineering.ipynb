{
 "cells": [
  {
   "cell_type": "code",
   "execution_count": null,
   "metadata": {},
   "outputs": [],
   "source": [
    "import numpy as np\n",
    "import h5py\n",
    "from matplotlib import pyplot as plt\n",
    "from sklearn.cluster import KMeans\n",
    "from sklearn.metrics import mean_squared_error as mse\n",
    "from sklearn.preprocessing import StandardScaler, MinMaxScaler\n",
    "from sklearn.decomposition import PCA\n",
    "from scipy import signal\n",
    "from glob import glob\n",
    "from peakfinder import detect_peaks \n",
    "from math import floor, ceil\n",
    "from functions import *\n",
    "from itertools import combinations\n",
    "from tqdm import tqdm\n",
    "np.set_printoptions(suppress=False)"
   ]
  },
  {
   "cell_type": "code",
   "execution_count": null,
   "metadata": {},
   "outputs": [],
   "source": [
    "wav, data, soundings, scaled_soundings, shift_std, alt = load_soundings()\n",
    "std, fourier, grad, coh, polyres, optc, mv_av_res, poly_coeffs = create_features(wav, soundings)\n",
    "# features[sounding][feature]\n",
    "num_name = {0: \"std\", 1: \"fourier_fit_residual\", 2: \"fourier_dominant_amplitude\", 3: \"fourier_dominant_period\", \n",
    "            4: \"grad_300_400\", 5: \"grad_350_400\", 6: \"grad_300_350\", 7: \"grad_300_500\", 8: \"shift_std\",\n",
    "            9: \"coherence_max_min\", 10: \"polyfi_residual_0\", 11: \"polyfit_residual_1\", 12: \"polyfit_residual_2\", \n",
    "            13: \"polyfit_residual_3\", 14: \"optimum_counter\", 15: \"moving_average_residual\"}\n",
    "name_num = {v: k for k, v in num_name.items()}"
   ]
  },
  {
   "cell_type": "code",
   "execution_count": null,
   "metadata": {},
   "outputs": [],
   "source": [
    "fig = plt.figure(figsize=(15,9))\n",
    "plt.title(\"Some vertical profiles\");\n",
    "j = 128\n",
    "\n",
    "for i in range(28):\n",
    "    ax = fig.add_subplot(7,4,i+1)\n",
    "    ax.plot(data[i+j][:,127], alt[i+j])\n",
    "    ax.grid()"
   ]
  },
  {
   "cell_type": "markdown",
   "metadata": {},
   "source": [
    "# Mean"
   ]
  },
  {
   "cell_type": "code",
   "execution_count": null,
   "metadata": {
    "scrolled": false
   },
   "outputs": [],
   "source": [
    "mean = np.reshape(soundings.mean(axis=1), (-1,1))\n",
    "plt.hist(mean, bins=100);"
   ]
  },
  {
   "cell_type": "markdown",
   "metadata": {},
   "source": [
    "# Standard Deviation"
   ]
  },
  {
   "cell_type": "code",
   "execution_count": null,
   "metadata": {},
   "outputs": [],
   "source": [
    "plt.hist(std, bins=100);"
   ]
  },
  {
   "cell_type": "markdown",
   "metadata": {},
   "source": [
    "# Fourier features\n",
    "Fourier transform the sounding, extract largest amplitude (excluding that corresponding to zero frequency),\n",
    "filter the sounding such that n_freq frequencies remain, calculate mse between filtered signal and original signal."
   ]
  },
  {
   "cell_type": "code",
   "execution_count": null,
   "metadata": {},
   "outputs": [],
   "source": [
    "fig = plt.figure(figsize=(20,6))\n",
    "ax1 = fig.add_subplot(1,3,1)\n",
    "ax2 = fig.add_subplot(1,3,2)\n",
    "ax3 = fig.add_subplot(1,3,3)\n",
    "\n",
    "ax1.hist(fourier[:,0], bins=100)\n",
    "ax1.set_title(\"Fourier fit residual\")\n",
    "ax2.hist(fourier[:,1], bins=100)\n",
    "ax2.set_title(\"Fourier dominant amplitude\")\n",
    "ax3.hist(fourier[:,2], bins=100)\n",
    "ax3.set_title(\"Fourier dominant period\");"
   ]
  },
  {
   "cell_type": "markdown",
   "metadata": {},
   "source": [
    "# Total change"
   ]
  },
  {
   "cell_type": "code",
   "execution_count": null,
   "metadata": {
    "scrolled": true
   },
   "outputs": [],
   "source": [
    "fig = plt.figure(figsize=(15,4))\n",
    "ax1 = fig.add_subplot(1,4,1)\n",
    "ax2 = fig.add_subplot(1,4,2)\n",
    "ax3 = fig.add_subplot(1,4,3)\n",
    "ax4 = fig.add_subplot(1,4,4)\n",
    "\n",
    "ax1.hist(grad_300_400, bins=100)\n",
    "ax2.hist(grad_300_350, bins=100)\n",
    "ax3.hist(grad_350_400, bins=100)\n",
    "ax4.hist(grad_300_500, bins=100);"
   ]
  },
  {
   "cell_type": "markdown",
   "metadata": {},
   "source": [
    "# Shift uniformity\n",
    "Did a sounding increase/decrease by a uniform amount at all wavelengths relative to the previous sounding?"
   ]
  },
  {
   "cell_type": "code",
   "execution_count": null,
   "metadata": {},
   "outputs": [],
   "source": [
    "plt.hist(shift_std, bins=100)\n",
    "plt.title(\n",
    "    \"Histogram of the standard deviation of the change in \\ntransmission at every wavelength from one sounding to the next\"\n",
    ");"
   ]
  },
  {
   "cell_type": "markdown",
   "metadata": {},
   "source": [
    "# Phase coherence analysis\n",
    "https://www.jstor.org/stable/pdf/3546310.pdf?refreqid=excelsior%3Aab23964ed57763344ab0eab4b0cd4e16"
   ]
  },
  {
   "cell_type": "code",
   "execution_count": null,
   "metadata": {
    "scrolled": true
   },
   "outputs": [],
   "source": [
    "k = 812\n",
    "coh_fun = np.zeros(soundings[k].shape[0]-1)\n",
    "for i in range(soundings[k].shape[0]-1):\n",
    "    coh_fun[i] = soundings[k][::i+1].std()"
   ]
  },
  {
   "cell_type": "code",
   "execution_count": null,
   "metadata": {},
   "outputs": [],
   "source": [
    "#std[step:start]\n",
    "plt.plot(coh_fun);"
   ]
  },
  {
   "cell_type": "code",
   "execution_count": null,
   "metadata": {},
   "outputs": [],
   "source": [
    "soundings.shape"
   ]
  },
  {
   "cell_type": "code",
   "execution_count": null,
   "metadata": {
    "scrolled": true
   },
   "outputs": [],
   "source": [
    "coh = np.zeros((soundings.shape[0], 1))\n",
    "for i in range(soundings.shape[0]):\n",
    "    coh[i] = phase_coherence(soundings[i])"
   ]
  },
  {
   "cell_type": "code",
   "execution_count": null,
   "metadata": {
    "scrolled": false
   },
   "outputs": [],
   "source": [
    "fig = plt.figure(figsize=(15,5))\n",
    "ax = fig.add_subplot(1,1,1)\n",
    "ax.hist(coh, bins=100)\n",
    "ax.set_title(\"Difference between minimum and maximum of coherence function\")"
   ]
  },
  {
   "cell_type": "markdown",
   "metadata": {},
   "source": [
    "# Polyfit residuals"
   ]
  },
  {
   "cell_type": "code",
   "execution_count": null,
   "metadata": {
    "scrolled": false
   },
   "outputs": [],
   "source": [
    "coeffs = np.polyfit(wav, soundings[800], 2)\n",
    "fit = np.poly1d(coeffs)(wav)\n",
    "plt.plot(wav, fit)\n",
    "plt.plot(wav, soundings[800])"
   ]
  },
  {
   "cell_type": "code",
   "execution_count": null,
   "metadata": {},
   "outputs": [],
   "source": [
    "polyres2 = np.zeros((soundings.shape[0], 1))\n",
    "polyres3 = np.zeros((soundings.shape[0], 1))\n",
    "for i in range(soundings.shape[0]):\n",
    "    polyres2[i] = polyfit_residual(soundings[i], 2) \n",
    "    polyres3[i] = polyfit_residual(soundings[i], 3)"
   ]
  },
  {
   "cell_type": "code",
   "execution_count": null,
   "metadata": {
    "scrolled": true
   },
   "outputs": [],
   "source": [
    "fig = plt.figure(figsize=(15,5))\n",
    "ax1 = fig.add_subplot(1,2,1)\n",
    "ax2 = fig.add_subplot(1,2,2)\n",
    "ax1.hist(polyres2, bins=100)\n",
    "ax1.set_title(\"Residual between original and polynomial approximation of degree 2\")\n",
    "ax2.hist(polyres3, bins=100)\n",
    "ax2.set_title(\"Residual between original and polynomial approximation of degree 3\");"
   ]
  },
  {
   "cell_type": "markdown",
   "metadata": {},
   "source": [
    "# Optimum counter\n",
    "Compress array to smooth noise and take gradient, then count x axis intersects as a measure of wavelength"
   ]
  },
  {
   "cell_type": "code",
   "execution_count": null,
   "metadata": {
    "scrolled": false
   },
   "outputs": [],
   "source": [
    "fig = plt.figure(figsize=(15,3))\n",
    "ax = fig.add_subplot(1,3,1)\n",
    "ax.plot(soundings[800])\n",
    "ax.set_title(\"Original\")\n",
    "\n",
    "ax = fig.add_subplot(1,3,2)\n",
    "ax.plot(moving_average(soundings[800], 10))\n",
    "ax.set_title(\"Compressed\")\n",
    "\n",
    "ax = fig.add_subplot(1,3,3)\n",
    "ax.plot(np.gradient(compress(soundings[800], 32)))\n",
    "ax.grid()\n",
    "ax.set_title(\"Gradient of compressed\");\n",
    "\n",
    "print(\"Number of x axis intersections: \", intersect_counter(np.gradient(compress(soundings[800], 32))))"
   ]
  },
  {
   "cell_type": "code",
   "execution_count": null,
   "metadata": {},
   "outputs": [],
   "source": [
    "optc = np.zeros((soundings.shape[0], 1))\n",
    "for i in range(soundings.shape[0]):\n",
    "    optc[i] = optimum_counter(soundings[i], 30)"
   ]
  },
  {
   "cell_type": "code",
   "execution_count": null,
   "metadata": {
    "scrolled": true
   },
   "outputs": [],
   "source": [
    "fig = plt.figure(figsize=(15,5))\n",
    "ax = fig.add_subplot(1,1,1)\n",
    "ax.hist(optc, bins=100)\n",
    "ax.set_title(\"Number of optima after taking moving average\");"
   ]
  },
  {
   "cell_type": "markdown",
   "metadata": {},
   "source": [
    "# Moving average\n",
    "Use a moving average to smooth noise and calculate gradient."
   ]
  },
  {
   "cell_type": "code",
   "execution_count": null,
   "metadata": {},
   "outputs": [],
   "source": [
    "plt.plot(soundings[809][1:-2])\n",
    "plt.plot(moving_average(soundings[809], 4))"
   ]
  },
  {
   "cell_type": "code",
   "execution_count": null,
   "metadata": {},
   "outputs": [],
   "source": [
    "av1 = moving_average(soundings[809], 4)\n",
    "av2 = moving_average(soundings[809], 8)\n",
    "av3 = moving_average(soundings[809], 16)\n",
    "fig = plt.figure(figsize=(15,4))\n",
    "ax1 = fig.add_subplot(1,4,1)\n",
    "ax2 = fig.add_subplot(1,4,2)\n",
    "ax3 = fig.add_subplot(1,4,3)\n",
    "ax4 = fig.add_subplot(1,4,4)\n",
    "ax1.plot(soundings[809])\n",
    "ax2.plot(av1)\n",
    "ax3.plot(av2)\n",
    "ax4.plot(av3)"
   ]
  },
  {
   "cell_type": "code",
   "execution_count": null,
   "metadata": {
    "scrolled": false
   },
   "outputs": [],
   "source": [
    "plt.plot(np.gradient(av3))\n",
    "plt.title(\"gradient\")\n",
    "plt.grid();\n",
    "print(\"Number of optima: \", intersect_counter(np.gradient(av3)))"
   ]
  },
  {
   "cell_type": "code",
   "execution_count": null,
   "metadata": {},
   "outputs": [],
   "source": [
    "mv_av_res = np.zeros((soundings.shape[0], 1))\n",
    "for i in range(soundings.shape[0]):\n",
    "    mv_av_res[i] = moving_average_residual(soundings[i], 30)"
   ]
  },
  {
   "cell_type": "code",
   "execution_count": null,
   "metadata": {
    "scrolled": true
   },
   "outputs": [],
   "source": [
    "fig = plt.figure(figsize=(15,5))\n",
    "ax = fig.add_subplot(1,1,1)\n",
    "ax.hist(mv_av_res, bins=100)\n",
    "ax.set_title(\"Residual between original and moving average\");"
   ]
  },
  {
   "cell_type": "markdown",
   "metadata": {},
   "source": [
    "# Peak finder"
   ]
  },
  {
   "cell_type": "code",
   "execution_count": null,
   "metadata": {},
   "outputs": [],
   "source": [
    "detect_peaks(moving_average(soundings[0], 10), mph=soundings[0].mean(), mpd=20, show=True, xdata=moving_average(wav, 10))"
   ]
  },
  {
   "cell_type": "code",
   "execution_count": null,
   "metadata": {},
   "outputs": [],
   "source": [
    "detect_peaks(moving_average(soundings[0], 10), mph=soundings[0].mean(), mpd=20, show=True, xdata=moving_average(wav, 10), valley=True)"
   ]
  },
  {
   "cell_type": "markdown",
   "metadata": {},
   "source": [
    "# Polynomial coefficients"
   ]
  },
  {
   "cell_type": "code",
   "execution_count": null,
   "metadata": {},
   "outputs": [],
   "source": [
    "np.polyfit(wav, soundings.T, 4).T.shape"
   ]
  },
  {
   "cell_type": "code",
   "execution_count": null,
   "metadata": {
    "collapsed": true
   },
   "outputs": [],
   "source": [
    "scatter_features(features)"
   ]
  },
  {
   "cell_type": "code",
   "execution_count": null,
   "metadata": {},
   "outputs": [],
   "source": [
    "retrieve_soundings([\"moving_average_residual\", 0.1, 0.15]).shape"
   ]
  },
  {
   "cell_type": "code",
   "execution_count": null,
   "metadata": {},
   "outputs": [],
   "source": [
    "view_soundings(retrieve_soundings([\"moving_average_residual\", 0.1, 0.15]))"
   ]
  }
 ],
 "metadata": {
  "kernelspec": {
   "display_name": "Python 3",
   "language": "python",
   "name": "python3"
  },
  "language_info": {
   "codemirror_mode": {
    "name": "ipython",
    "version": 3
   },
   "file_extension": ".py",
   "mimetype": "text/x-python",
   "name": "python",
   "nbconvert_exporter": "python",
   "pygments_lexer": "ipython3",
   "version": "3.8.5"
  }
 },
 "nbformat": 4,
 "nbformat_minor": 4
}
