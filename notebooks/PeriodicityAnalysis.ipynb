{
 "cells": [
  {
   "cell_type": "code",
   "execution_count": null,
   "metadata": {},
   "outputs": [],
   "source": [
    "import numpy as np\n",
    "import h5py\n",
    "from matplotlib import pyplot as plt\n",
    "from sklearn.metrics import mean_squared_error as mse\n",
    "from glob import glob\n",
    "from scipy import signal\n",
    "from peakfinder import detect_peaks \n",
    "np.set_printoptions(suppress=True)"
   ]
  },
  {
   "cell_type": "code",
   "execution_count": null,
   "metadata": {},
   "outputs": [],
   "source": [
    "occ1 = \"../data/level_1p0a/20190505_184810_1p0a_UVIS_I.h5\"\n",
    "occ2 = \"../data/level_1p0a/20190715_162335_1p0a_UVIS_E.h5\""
   ]
  },
  {
   "cell_type": "code",
   "execution_count": null,
   "metadata": {},
   "outputs": [],
   "source": [
    "with h5py.File(occ1, \"r\") as f:\n",
    "    occ1 = {}\n",
    "    occ1[\"yMean\"] = np.array(f[\"Science/YMean\"])\n",
    "    occ1[\"y\"] = np.array(f[\"Science/Y\"])\n",
    "    occ1[\"x\"] = np.array(f[\"Science/X\"])\n",
    "    \n",
    "with h5py.File(occ2, \"r\") as f:\n",
    "    occ2 = {}\n",
    "    occ2[\"yMean\"] = np.array(f[\"Science/YMean\"])\n",
    "    occ2[\"y\"] = np.array(f[\"Science/Y\"])\n",
    "    occ2[\"x\"] = np.array(f[\"Science/X\"])"
   ]
  },
  {
   "cell_type": "code",
   "execution_count": null,
   "metadata": {},
   "outputs": [],
   "source": [
    "def wl_clip(wl, wl_arr):\n",
    "    return np.argmin(abs(wl_arr - wl))\n",
    "\n",
    "def compress(arr, factor):\n",
    "    \"\"\"\n",
    "    Compress an array by a given factor by taking averages of groups of points\n",
    "    \"\"\"\n",
    "    if arr.shape[0] % factor:\n",
    "        idx = arr.shape[0] % factor\n",
    "        compressed = arr[:-idx].reshape(int(arr[:-idx].shape[0]/factor), int(factor)).sum(axis=1)/factor\n",
    "        compressed = np.append(compressed, np.mean(arr[-idx:]))\n",
    "    else:\n",
    "        compressed = arr.reshape(int(arr.shape[0]/factor), int(factor)).sum(axis=1)/factor\n",
    "    return compressed\n",
    "\n",
    "def intersectCounter(f):\n",
    "    \"\"\"\n",
    "    Counts the number of times f crosses x axis\n",
    "    \"\"\"\n",
    "    sign = np.sign(f)\n",
    "    count = np.array((np.roll(sign, -1) - sign)[:-1], dtype=\"bool\").sum()\n",
    "    return count\n",
    "\n",
    "def fourier_extract(sounding, n_freq):\n",
    "    \"\"\"\n",
    "    Fourier transform the sounding, extract largest amplitude (excluding that corresponding to zero frequency),\n",
    "    filter the sounding such that n_freq frequencies remain, calculate mse between filtered signal and original signal.\n",
    "    \n",
    "    Inputs\n",
    "    sounding     Spectrum to be analysed \n",
    "    n_freq       Number of remaining frequencies after being filtered via fourier transform\n",
    "    \n",
    "    Outputs\n",
    "    error        Mean squared error between original and smoothed spectra\n",
    "    amp          Largest amplitude in fourier transform (excluding zero frequency)\n",
    "    period       Period corresponding with the largest amplitude (excluding zero frequency)\n",
    "    \"\"\"\n",
    "    transformed = np.fft.fft(sounding)\n",
    "    cleanTransformed = filter_n(transformed, n_freq)\n",
    "    cleanSounding = np.fft.ifft(cleanTransformed)\n",
    "    error = mse(sounding, abs(cleanSounding))\n",
    "    idx = np.argmax(abs(transformed)[1:51]) + 1\n",
    "    amp = abs(transformed[1:51]).max()\n",
    "    period = 1/freq[idx]\n",
    "    return np.array([error, amp, period])"
   ]
  },
  {
   "cell_type": "code",
   "execution_count": null,
   "metadata": {},
   "outputs": [],
   "source": [
    "fig = plt.figure(figsize=(20,9))\n",
    "ax1 = fig.add_subplot(1, 2, 1, projection='3d')\n",
    "ax2 = fig.add_subplot(1, 2, 2, projection='3d')\n",
    "\n",
    "for i in range(occ1[\"x\"].shape[0]):\n",
    "    ax1.plot(occ1[\"x\"][i], occ1[\"y\"][i], zs=i, zdir=\"y\");\n",
    "    \n",
    "for i in range(occ2[\"x\"].shape[0]):\n",
    "    ax2.plot(occ2[\"x\"][i], occ2[\"y\"][i], zs=i, zdir=\"y\");\n",
    "    \n",
    "ax1.set_title(\"Occultation 1\")\n",
    "ax1.set_xlabel('Wavelength (nm)')\n",
    "ax1.set_ylabel('Sounding')\n",
    "ax1.set_zlabel('Transmission');\n",
    "\n",
    "ax1.set_title(\"Occultation 2\")\n",
    "ax2.set_xlabel('Wavelength (nm)')\n",
    "ax2.set_ylabel('Sounding')\n",
    "ax2.set_zlabel('Transmission');"
   ]
  },
  {
   "cell_type": "code",
   "execution_count": null,
   "metadata": {
    "scrolled": false
   },
   "outputs": [],
   "source": [
    "fig = plt.figure(figsize=(20,9))\n",
    "ax1 = fig.add_subplot(1, 2, 1)\n",
    "ax2 = fig.add_subplot(1, 2, 2)\n",
    "\n",
    "for i in range(occ1[\"x\"].shape[0]):\n",
    "    ax1.plot(occ1[\"x\"][i], occ1[\"y\"][i]);\n",
    "\n",
    "for i in range(occ2[\"x\"].shape[0]):\n",
    "    ax2.plot(occ2[\"x\"][i], occ2[\"y\"][i]);"
   ]
  },
  {
   "cell_type": "code",
   "execution_count": null,
   "metadata": {
    "scrolled": false
   },
   "outputs": [],
   "source": [
    "clip = wl_clip(300, occ1[\"x\"][0])\n",
    "\n",
    "wavelength = occ1[\"x\"][0][clip:]\n",
    "s1 = occ1[\"y\"][90][clip:]\n",
    "s2 = occ2[\"y\"][40][clip:]\n",
    "s3 = occ2[\"y\"][127][clip:]\n",
    "\n",
    "fig = plt.figure(figsize=(20,9))\n",
    "ax = fig.add_subplot()\n",
    "\n",
    "ax.plot(wavelength, s1)\n",
    "ax.plot(wavelength, s2)\n",
    "ax.plot(wavelength, s3)\n",
    "\n",
    "ax.legend([\"s1\", \"s2\", \"s3\"]);"
   ]
  },
  {
   "cell_type": "code",
   "execution_count": null,
   "metadata": {},
   "outputs": [],
   "source": [
    "plt.plot(s1)\n",
    "plt.plot(np.poly1d(np.polyfit(wavelength, s1, 5))(wavelength))"
   ]
  },
  {
   "cell_type": "code",
   "execution_count": null,
   "metadata": {},
   "outputs": [],
   "source": [
    "coeffs1 = np.polyfit(wavelength, s1, 3)\n",
    "fit1 = np.poly1d(coeffs1)(wavelength)\n",
    "res1 = np.abs(fit1 - s1)\n",
    "coeffs2 = np.polyfit(wavelength, s2, 3)\n",
    "fit2 = np.poly1d(coeffs2)(wavelength)\n",
    "res2 = np.abs(fit2 - s2)\n",
    "coeffs3 = np.polyfit(wavelength, s3, 3)\n",
    "fit3 = np.poly1d(coeffs3)(wavelength)\n",
    "res3 = np.abs(fit3 - s3)\n",
    "\n",
    "plt.semilogy(res1)\n",
    "plt.semilogy(res2)\n",
    "plt.semilogy(res3)\n",
    "plt.legend([\"s1\", \"s2\", \"s3\"]);"
   ]
  },
  {
   "cell_type": "code",
   "execution_count": null,
   "metadata": {},
   "outputs": [],
   "source": [
    "plt.plot(fit1)\n",
    "plt.plot(s1)\n",
    "plt.plot(fit2)\n",
    "plt.plot(s2)\n",
    "plt.plot(fit3)\n",
    "plt.plot(s3)"
   ]
  },
  {
   "cell_type": "markdown",
   "metadata": {},
   "source": [
    "Objective is to find a quantifiable feature that distinguishes the signal s1 from the signals s2 and s3!"
   ]
  },
  {
   "cell_type": "markdown",
   "metadata": {},
   "source": [
    "# Fourier"
   ]
  },
  {
   "cell_type": "markdown",
   "metadata": {},
   "source": [
    "If there is one nan value in an array, the fourier transform will be all nan values. Linear interpolation is used to fill the np.nan values.\n",
    "###### TODO\n",
    "array could be truncated to remove nan values rather than linear interpolation, depends on where nan values could occur."
   ]
  },
  {
   "cell_type": "code",
   "execution_count": null,
   "metadata": {},
   "outputs": [],
   "source": [
    "mask = np.isfinite(s1)\n",
    "s1 = np.interp(wavelength, wavelength[mask], s1[mask])\n",
    "mask = np.isfinite(s2)\n",
    "s2 = np.interp(wavelength, wavelength[mask], s2[mask])\n",
    "mask = np.isfinite(s3)\n",
    "s3 = np.interp(wavelength, wavelength[mask], s3[mask])\n",
    "\n",
    "fs1 = np.fft.fft(s1)\n",
    "fs2 = np.fft.fft(s2)\n",
    "fs3 = np.fft.fft(s3)\n",
    "freq = np.fft.fftfreq(wavelength.shape[0])\n",
    "\n",
    "fig = plt.figure(figsize=(20,9))\n",
    "ax = fig.add_subplot()\n",
    "\n",
    "ax.semilogy(freq, abs(fs1))\n",
    "ax.semilogy(freq, abs(fs2))\n",
    "ax.semilogy(freq, abs(fs3));\n",
    "\n",
    "#ax.set_ylim([0,2])\n",
    "#ax.set_xlim([-0.1,0.1])\n",
    "ax.legend([\"fs1\", \"fs2\", \"fs3\"])\n",
    "ax.grid();"
   ]
  },
  {
   "cell_type": "code",
   "execution_count": null,
   "metadata": {},
   "outputs": [],
   "source": [
    "freqidx = np.argmax(abs(fs2)[1:]) + 1\n",
    "abs(freq[freqidx])"
   ]
  },
  {
   "cell_type": "code",
   "execution_count": null,
   "metadata": {},
   "outputs": [],
   "source": [
    "1/freq[freqidx]"
   ]
  },
  {
   "cell_type": "code",
   "execution_count": null,
   "metadata": {},
   "outputs": [],
   "source": [
    "abs(fs2[1:]).max()"
   ]
  },
  {
   "cell_type": "code",
   "execution_count": null,
   "metadata": {},
   "outputs": [],
   "source": [
    "thresh = 0.25\n",
    "\n",
    "fs1c = np.where(abs(fs1) > thresh, fs1, 0+0j)\n",
    "fs2c = np.where(abs(fs2) > thresh, fs2, 0+0j)\n",
    "fs3c = np.where(abs(fs3) > thresh, fs3, 0+0j)\n",
    "\n",
    "s1c = np.fft.ifft(fs1c)\n",
    "s2c = np.fft.ifft(fs2c)\n",
    "s3c = np.fft.ifft(fs3c)\n",
    "\n",
    "fig = plt.figure(figsize=(20,9))\n",
    "ax = fig.add_subplot()\n",
    "\n",
    "ax.plot(wavelength, abs(s1c))\n",
    "ax.plot(wavelength, abs(s2c))\n",
    "ax.plot(wavelength, abs(s3c));\n",
    "\n",
    "ax.legend([\"s1c\", \"s2c\", \"s3c\"])\n",
    "ax.grid();"
   ]
  },
  {
   "cell_type": "markdown",
   "metadata": {},
   "source": [
    "All signals are superpositions of periodic signals with a maximum period of 128. The exact combination of frequencies varies per sounding. The soundings of interest should have a spike, which indicates a \"main\" waveform frequency that the original noisy data somewhat resembles.\n",
    "\n",
    "The local maximum of the fourier transform (excluding the zero frequency) may be useful. Also the shape of the transform and its \"spikiness\"."
   ]
  },
  {
   "cell_type": "markdown",
   "metadata": {},
   "source": [
    "###### Idea 1\n",
    "Take fourier transform, filter until only n (small n) frequencies remain, reverse fourier transform and then measure MSE between result and original signal. Assumption here is that a filtered signal that can reasonably approximate s3 requires more frequencies than one that can approximate s1.\n",
    "###### Idea 2\n",
    "Investigate autocorrelation of interpolating function that approximates original signal."
   ]
  },
  {
   "cell_type": "code",
   "execution_count": null,
   "metadata": {},
   "outputs": [],
   "source": [
    "def filter_n(transform, n):\n",
    "    \"\"\"\n",
    "    Takes a fourier transform of a signal as input and filters it until only n non-zero frequencies remain\n",
    "    \"\"\"\n",
    "    return np.where(abs(transform) >= np.sort(abs(transform))[-2*n], transform, 0+0j)"
   ]
  },
  {
   "cell_type": "code",
   "execution_count": null,
   "metadata": {},
   "outputs": [],
   "source": [
    "fs1c = filter_n(fs1, 2)\n",
    "fs2c = filter_n(fs2, 2)\n",
    "fs3c = filter_n(fs3, 2) #TODO filter freq\n",
    "\n",
    "s1c = np.fft.ifft(fs1c)\n",
    "s2c = np.fft.ifft(fs2c)\n",
    "s3c = np.fft.ifft(fs3c)\n",
    "\n",
    "fig = plt.figure(figsize=(20,9))\n",
    "ax = fig.add_subplot()\n",
    "\n",
    "ax.plot(wavelength, abs(s1c))\n",
    "ax.plot(wavelength, abs(s2c))\n",
    "ax.plot(wavelength, abs(s3c));\n",
    "\n",
    "ax.legend([\"s1c\", \"s2c\", \"s3c\"])\n",
    "ax.grid();"
   ]
  },
  {
   "cell_type": "code",
   "execution_count": null,
   "metadata": {},
   "outputs": [],
   "source": [
    "print(mse(s1, abs(s1c)), mse(s2, abs(s2c)), mse(s3, abs(s3c)))"
   ]
  },
  {
   "cell_type": "markdown",
   "metadata": {},
   "source": [
    "This can distinguish s1 and s2. The basic fourier transform can distinguish between s3 and the rest.\n",
    "\n",
    "Find amplitude of dominant non-zero frequency, find mse between original and filtered signal, then cluster.\n",
    "\n",
    "uniform shifts -> linear shifts -> non-linear shifts -> periodic"
   ]
  },
  {
   "cell_type": "code",
   "execution_count": null,
   "metadata": {},
   "outputs": [],
   "source": [
    "fig = plt.figure(figsize=(20,3))\n",
    "ax1 = fig.add_subplot(1,3,1)\n",
    "ax2 = fig.add_subplot(1,3,2)\n",
    "ax3 = fig.add_subplot(1,3,3)\n",
    "ax1.imshow(signal.cwt(s1, signal.ricker, np.arange(1, 51)))\n",
    "ax2.imshow(signal.cwt(s2, signal.ricker, np.arange(1, 51)))\n",
    "ax3.imshow(signal.cwt(s3, signal.ricker, np.arange(1, 51)))"
   ]
  },
  {
   "cell_type": "markdown",
   "metadata": {},
   "source": [
    "# Autocorrelation"
   ]
  },
  {
   "cell_type": "code",
   "execution_count": null,
   "metadata": {},
   "outputs": [],
   "source": [
    "fig = plt.figure(figsize=(20,6))\n",
    "ax1 = fig.add_subplot(1,3,1)\n",
    "ax2 = fig.add_subplot(1,3,2)\n",
    "ax3 = fig.add_subplot(1,3,3)\n",
    "\n",
    "cor1 = np.array([])\n",
    "cor2 = np.array([])\n",
    "cor3 = np.array([])\n",
    "\n",
    "for i in range(s1.shape[0]):\n",
    "    cor1 = np.append(cor1, np.correlate(np.roll(s1, i), s1))\n",
    "    \n",
    "for i in range(s2.shape[0]):\n",
    "    cor2 = np.append(cor2, np.correlate(np.roll(s2, i), s2))\n",
    "    \n",
    "for i in range(s3.shape[0]):\n",
    "    cor3 = np.append(cor3, np.correlate(np.roll(s3, i), s3))\n",
    "    \n",
    "ax1.plot(cor1)\n",
    "ax2.plot(cor2)\n",
    "ax3.plot(cor3)"
   ]
  },
  {
   "cell_type": "code",
   "execution_count": null,
   "metadata": {},
   "outputs": [],
   "source": [
    "fig = plt.figure(figsize=(20,6))\n",
    "ax1 = fig.add_subplot(1,3,1)\n",
    "ax2 = fig.add_subplot(1,3,2)\n",
    "ax3 = fig.add_subplot(1,3,3)\n",
    "\n",
    "ax1.plot(abs(np.correlate(s1c, s1c, mode=\"full\")))\n",
    "ax2.plot(abs(np.correlate(s2c, s3c, mode=\"full\")))\n",
    "ax3.plot(abs(np.correlate(s2c, s3c, mode=\"full\")))"
   ]
  },
  {
   "cell_type": "markdown",
   "metadata": {},
   "source": [
    "# Phase coherence\n",
    "https://www.jstor.org/stable/pdf/3546310.pdf?refreqid=excelsior%3Aab23964ed57763344ab0eab4b0cd4e16"
   ]
  },
  {
   "cell_type": "code",
   "execution_count": null,
   "metadata": {},
   "outputs": [],
   "source": [
    "plt.plot(s1)"
   ]
  },
  {
   "cell_type": "code",
   "execution_count": null,
   "metadata": {},
   "outputs": [],
   "source": [
    "std = np.zeros((s1.shape[0]-1, s1.shape[0]-1))\n",
    "for i in range(s1.shape[0]-1):\n",
    "    for j in range(i+1):\n",
    "        std[i,j] = s1[j::i+1].std()"
   ]
  },
  {
   "cell_type": "code",
   "execution_count": null,
   "metadata": {},
   "outputs": [],
   "source": [
    "#std[step:start]\n",
    "plt.plot(std[:,0])\n",
    "plt.ylabel(\"std\")\n",
    "plt.xlabel(\"step\");"
   ]
  },
  {
   "cell_type": "code",
   "execution_count": null,
   "metadata": {},
   "outputs": [],
   "source": [
    "detect_peaks(std[:,0], mpd=40, show=True, xdata=np.arange(100))"
   ]
  },
  {
   "cell_type": "code",
   "execution_count": null,
   "metadata": {},
   "outputs": [],
   "source": [
    "std = np.zeros((s2.shape[0], s2.shape[0]))\n",
    "for i in range(1, s2.shape[0]):\n",
    "    for j in range(i):\n",
    "        std[i-1,j] = s2[j::i].std()"
   ]
  },
  {
   "cell_type": "code",
   "execution_count": null,
   "metadata": {},
   "outputs": [],
   "source": [
    "plt.plot(std[:,0])\n",
    "plt.ylabel(\"std\")\n",
    "plt.xlabel(\"step\");"
   ]
  },
  {
   "cell_type": "code",
   "execution_count": null,
   "metadata": {},
   "outputs": [],
   "source": [
    "std = np.zeros((s3.shape[0], s3.shape[0]))\n",
    "for i in range(1, s3.shape[0]):\n",
    "    for j in range(i):\n",
    "        std[i-1,j] = s3[j::i].std()"
   ]
  },
  {
   "cell_type": "code",
   "execution_count": null,
   "metadata": {
    "scrolled": false
   },
   "outputs": [],
   "source": [
    "plt.plot(std[:,0])\n",
    "plt.ylabel(\"std\")\n",
    "plt.xlabel(\"step\");"
   ]
  },
  {
   "cell_type": "markdown",
   "metadata": {},
   "source": [
    "# Polyfit"
   ]
  },
  {
   "cell_type": "code",
   "execution_count": null,
   "metadata": {},
   "outputs": [],
   "source": [
    "res = []\n",
    "for n in range(10):\n",
    "    coeffs = np.polyfit(wavelength, s1, n)\n",
    "    fit = np.poly1d(coeffs)(wavelength)\n",
    "    res.append(np.abs(fit - s1).sum())\n",
    "    \n",
    "\n",
    "coeffs = np.polyfit(wavelength, s1, 4);\n",
    "fit = np.poly1d(coeffs)(wavelength);\n",
    "plt.plot(fit)\n",
    "plt.plot(s1)"
   ]
  },
  {
   "cell_type": "markdown",
   "metadata": {},
   "source": [
    "# Moving average"
   ]
  },
  {
   "cell_type": "code",
   "execution_count": null,
   "metadata": {
    "scrolled": false
   },
   "outputs": [],
   "source": [
    "plt.plot(s1)"
   ]
  },
  {
   "cell_type": "code",
   "execution_count": null,
   "metadata": {},
   "outputs": [],
   "source": [
    "plt.plot(compress(s1, 4))"
   ]
  },
  {
   "cell_type": "code",
   "execution_count": null,
   "metadata": {},
   "outputs": [],
   "source": [
    "plt.plot(np.gradient(compress(s1, 32)))"
   ]
  },
  {
   "cell_type": "code",
   "execution_count": null,
   "metadata": {
    "scrolled": true
   },
   "outputs": [],
   "source": [
    "intersectCounter(np.gradient(compress(s1, 32)))"
   ]
  },
  {
   "cell_type": "markdown",
   "metadata": {},
   "source": [
    "# Peak finder"
   ]
  },
  {
   "cell_type": "code",
   "execution_count": null,
   "metadata": {},
   "outputs": [],
   "source": [
    "detect_peaks(s1, mph=s1.mean(), mpd=20, show=True, xdata=wavelength)"
   ]
  },
  {
   "cell_type": "code",
   "execution_count": null,
   "metadata": {},
   "outputs": [],
   "source": [
    "detect_peaks(s1, mph=s1.mean(), mpd=20, show=True, xdata=wavelength, valley=True)"
   ]
  },
  {
   "cell_type": "code",
   "execution_count": null,
   "metadata": {},
   "outputs": [],
   "source": [
    "detect_peaks(s2, mph=s1.mean(), mpd=20, show=True, xdata=wavelength)"
   ]
  },
  {
   "cell_type": "code",
   "execution_count": null,
   "metadata": {},
   "outputs": [],
   "source": [
    "detect_peaks(s3, mph=s1.mean(), mpd=20, show=True, xdata=wavelength)"
   ]
  }
 ],
 "metadata": {
  "kernelspec": {
   "display_name": "Python 3.8.5 ('base')",
   "language": "python",
   "name": "python3"
  },
  "language_info": {
   "codemirror_mode": {
    "name": "ipython",
    "version": 3
   },
   "file_extension": ".py",
   "mimetype": "text/x-python",
   "name": "python",
   "nbconvert_exporter": "python",
   "pygments_lexer": "ipython3",
   "version": "3.8.5"
  },
  "vscode": {
   "interpreter": {
    "hash": "c99ec3b06bb2b7a9ce1cfef1038d6bd1f5e5eb8cf3fb3cc6612960f8106f6dac"
   }
  }
 },
 "nbformat": 4,
 "nbformat_minor": 4
}
