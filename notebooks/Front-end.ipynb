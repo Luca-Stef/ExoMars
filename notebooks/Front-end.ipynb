{
 "cells": [
  {
   "cell_type": "code",
   "execution_count": null,
   "metadata": {},
   "outputs": [],
   "source": [
    "import numpy as np\n",
    "import pandas as pd\n",
    "import h5py\n",
    "import matplotlib.pyplot as plt\n",
    "from PIL import Image\n",
    "from glob import glob\n",
    "\n",
    "marsImage = Image.open(\"../images/mars.png\")\n",
    "occ_view = pd.read_csv(\"../data/out/occ_view.csv\")\n",
    "spectralclasses = [pd.read_csv(file) for file in glob(\"../data/out/class_view/*\")]\n",
    "\"\"\"soundings = np.genfromtxt(\"../data/soundings.txt\")\n",
    "grad = np.genfromtxt(\"../data/grad.txt\")\n",
    "polyres = np.genfromtxt(\"../data/polyres.txt\")\n",
    "poly_coeff = np.genfromtxt(\"../data/poly_coeff.txt\")\n",
    "curv = np.genfromtxt(\"../data/curv.txt\")\n",
    "labels = np.genfromtxt(\"../data/labels.txt\")\"\"\"\n",
    "\n",
    "index = {0: \"flat above atmosphere\", 1: \"flat below atmosphere\", 2: \"flat in atmosphere\", 3: \"high gradient\", \n",
    "        4: \"negative curvature\", 5: \"periodic\", 6: \"positive curvature\", 7: \"small gradient\"}\n",
    "xedni = {v: k for k, v in index.items()}\n",
    "\n",
    "print(\"Class index\\n\")\n",
    "for key, value in index.items(): print(f\"{key}: {value}\")"
   ]
  },
  {
   "cell_type": "code",
   "execution_count": null,
   "metadata": {},
   "outputs": [],
   "source": [
    "with h5py.File(\"../data/level_1p0a/20181001_000633_1p0a_UVIS_E.h5\", \"r\") as f:\n",
    "    y = np.array(f[\"Science/YMean\"])\n",
    "    x = np.array(f[\"Science/X\"])[0]\n",
    "    alt = np.mean(f[\"Geometry/Point0/TangentAltAreoid\"], axis=1)"
   ]
  },
  {
   "cell_type": "code",
   "execution_count": null,
   "metadata": {},
   "outputs": [],
   "source": [
    "plt.plot(x, y.T)\n",
    "plt.ylim([0,1])\n",
    "plt.show()"
   ]
  },
  {
   "cell_type": "code",
   "execution_count": null,
   "metadata": {},
   "outputs": [],
   "source": [
    "view = int(input(\"Press 1 to view a class, 2 to view an occultation \"))\n",
    "\n",
    "# class view\n",
    "if view == 1:\n",
    "    spectralclass = int(input(\"Choose class of soundings to view: \"))\n",
    "    \n",
    "    plttype = int(input(\"Press 1 to view geolocations, 2 to view altitude distribution: \"))\n",
    "    dest = input(\"Type 'show' to show or a file path to save to: \")\n",
    "    \n",
    "    if plttype == 1:\n",
    "        plt.scatter(spectralclasses[spectralclass][\"lon\"], spectralclasses[spectralclass][\"lat\"], \n",
    "                    c=spectralclasses[spectralclass][\"alt\"])\n",
    "        plt.grid()\n",
    "        plt.title(f\"Locations of {index[spectralclass]} soundings\")\n",
    "        plt.xlabel(\"Longitude\")\n",
    "        plt.ylabel(\"Latitude\")\n",
    "        plt.xticks(range(-180, 181, 30))\n",
    "        plt.yticks(range(-90, 91, 30))\n",
    "        plt.xlim(-180, 180)\n",
    "        plt.ylim(-90, 90)\n",
    "        plt.tight_layout()\n",
    "        cbar = plt.colorbar()\n",
    "        cbar.set_label(\"Altitudes / km\")\n",
    "        plt.imshow(marsImage, extent=[-180, 180, 90, -90]);\n",
    "        \n",
    "        if dest == \"show\":\n",
    "            plt.show()\n",
    "            \n",
    "        else:\n",
    "            plt.savefig(dest)\n",
    "            plt.close()\n",
    "        \n",
    "    elif plttype == 2:\n",
    "        plt.hist(spectralclasses[spectralclass][\"alt\"])\n",
    "        plt.xlabel(\"Altitude\")\n",
    "        plt.ylabel(\"Frequency\")\n",
    "        \n",
    "        if dest == \"show\":\n",
    "            plt.show()\n",
    "            \n",
    "        else:\n",
    "            plt.savefig(dest)\n",
    "            plt.close()\n",
    "            \n",
    "# Occultation view\n",
    "elif view == 2:\n",
    "    name = input(\"File name of occultation: \")\n",
    "    print()\n",
    "    occ = occ_view[occ_view[\"file name\"] == name]\n",
    "    print(f\"Composition of occultation {name}\")\n",
    "    print(f\"Total soundings: {occ['total'][0]}\")\n",
    "    for k, v in index.items(): print(f\"{v}: {occ[str(k)][0]}\")"
   ]
  }
 ],
 "metadata": {
  "kernelspec": {
   "display_name": "Python 3",
   "language": "python",
   "name": "python3"
  },
  "language_info": {
   "codemirror_mode": {
    "name": "ipython",
    "version": 3
   },
   "file_extension": ".py",
   "mimetype": "text/x-python",
   "name": "python",
   "nbconvert_exporter": "python",
   "pygments_lexer": "ipython3",
   "version": "3.8.5"
  }
 },
 "nbformat": 4,
 "nbformat_minor": 4
}
