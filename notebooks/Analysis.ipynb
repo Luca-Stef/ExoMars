{
 "cells": [
  {
   "cell_type": "code",
   "execution_count": null,
   "metadata": {
    "scrolled": true
   },
   "outputs": [],
   "source": [
    "#!/usr/bin/env python3\n",
    "\n",
    "import argparse\n",
    "import os\n",
    "import numpy as np\n",
    "from sklearn.cluster import Birch\n",
    "from PIL import Image\n",
    "import matplotlib.pyplot as plt\n",
    "import shutil\n",
    "import pandas as pd\n",
    "\n",
    "from loader import *\n",
    "from features import *\n",
    "from visualisation import *\n",
    "from merging import *\n",
    "\n",
    "## Loading data ##\n",
    "wav, soundings, shift_std, shift_mean, space, time = load_soundings(\"../data/level_1p0a/*.h5\", smoothing=\"poly\", remove_flat=False)\n",
    "centred_soundings = centre(soundings)\n",
    "\n",
    "## Creating features ##\n",
    "grad, polyres, optc, poly_coeffs, curv = create_features(wav, centred_soundings, standardize, \"grad\", \"polyres\", \"optc\", \"poly_coeffs\", \"curv\")\n",
    "\n",
    "features = np.hstack([poly_coeffs[:,0:1], polyres[:,1:2], grad[:,4:5]])\n",
    "\n",
    "combined_features = np.hstack([standardize(centred_soundings), features])\n",
    "\n",
    "## Fitting model ##\n",
    "model = Birch(n_clusters=None, threshold=3, branching_factor=50).fit(combined_features)\n",
    "\n",
    "minorlabels = model.labels_\n",
    "\n",
    "## Merging clusters ##\n",
    "majorlabels = merge_labels(soundings, minorlabels, grad, polyres, poly_coeffs, curv)\n",
    "\n",
    "finallabels = add_flat_labels(soundings, majorlabels)"
   ]
  },
  {
   "cell_type": "code",
   "execution_count": null,
   "metadata": {},
   "outputs": [],
   "source": [
    "marsImage = Image.open(\"../images/mars.png\")\n",
    "fig = plt.figure(figsize=(15,9))\n",
    "ax = fig.add_subplot()\n",
    "ax.grid()\n",
    "ax.set_title(\"Locations of highly periodic soundings\")\n",
    "ax.set_xticks(range(-180, 181, 30))\n",
    "ax.set_yticks(range(-90, 91, 30))\n",
    "ax.set_xlim(-180, 180)\n",
    "ax.set_ylim(-90, 90)\n",
    "    \n",
    "im = ax.scatter(space[finallabels==5,2], space[finallabels==5,1], c=space[finallabels==5,0])\n",
    "fig.colorbar(im, ax=ax)\n",
    "plt.tight_layout()\n",
    "ax.imshow(marsImage, extent=[-180, 180, 90, -90]);"
   ]
  },
  {
   "cell_type": "markdown",
   "metadata": {},
   "source": [
    "# Occultation view\n",
    "classes present and their quantity and altitude and mean transmission level."
   ]
  },
  {
   "cell_type": "code",
   "execution_count": null,
   "metadata": {
    "scrolled": true
   },
   "outputs": [],
   "source": [
    "def create_occultation_view(time, finallabels):\n",
    "    \"\"\"\n",
    "    Create nested dictionary where for each occultation the classes of spectra can be read along with their\n",
    "    altitudes and mean transmission levels \n",
    "    \"\"\"\n",
    "    occ_view = []\n",
    "    for occ in range(np.unique(time[:,-1]).shape[0]):\n",
    "        occ_mask = time[:,-1] == np.unique(time[:,-1])[occ]\n",
    "        occ_view.append({})\n",
    "        occ_view[occ][\"file name\"] = np.unique(time[:,-1])[occ]\n",
    "        for spectralclass in set(finallabels):\n",
    "            class_mask = finallabels == spectralclass\n",
    "            occ_view[occ][spectralclass] = (occ_mask & class_mask).sum()\n",
    "        occ_view[occ][\"total\"] = occ_mask.sum()\n",
    "    \n",
    "    pd.DataFrame(occ_view).to_csv(\"../data/out/occ_view.csv\", index=False)\n",
    "    \n",
    "create_occultation_view(time, finallabels)"
   ]
  },
  {
   "cell_type": "code",
   "execution_count": null,
   "metadata": {
    "collapsed": true
   },
   "outputs": [],
   "source": [
    "try:\n",
    "    shutil.rmtree(\"../data/out/occ_view/\")\n",
    "    os.makedirs(\"../data/out/occ_view/\")\n",
    "except FileNotFoundError: pass\n",
    "except FileExistsError: pass\n",
    "\n",
    "occ_view = {}\n",
    "for occ in np.unique(time[:,-1]):\n",
    "    occ_mask = time[:,-1] == occ\n",
    "    classes_present = np.unique(finallabels[occ_mask])\n",
    "    all_classes = np.unique(finallabels)\n",
    "    tags = np.in1d(all_classes, classes_present)\n",
    "    if 5 in classes_present:\n",
    "        periodic_mask = finallabels[occ_mask] == 5\n",
    "        mean_transmissions = soundings[occ_mask][periodic_mask].mean(axis=1)\n",
    "        altitudes = space[occ_mask][periodic_mask, 0]\n",
    "        wavelengths = find_wavelengths(wav, soundings[occ_mask][periodic_mask])\n",
    "        \n",
    "occ_view"
   ]
  },
  {
   "cell_type": "code",
   "execution_count": null,
   "metadata": {
    "collapsed": true
   },
   "outputs": [],
   "source": [
    "try:\n",
    "    shutil.rmtree(\"../data/out/occ_view/\")\n",
    "    os.makedirs(\"../data/out/occ_view/\")\n",
    "except FileNotFoundError: pass\n",
    "except FileExistsError: pass\n",
    "\n",
    "occ_view = {}\n",
    "for occ in np.unique(time[:,-1]):\n",
    "    occ_mask = time[:,-1] == occ\n",
    "    occ_view[occ] = {}\n",
    "    for spectralclass in set(finallabels):\n",
    "        transmission_levels = soundings[(time[:,-1] == occ) & (finallabels == spectralclass)].mean(axis=1)\n",
    "        altitudes = space[(time[:,-1] == occ) & (finallabels == spectralclass), 0]\n",
    "        occ_view[occ][spectralclass] = np.vstack([altitudes, transmission_levels])\n",
    "        \n",
    "pd.DataFrame(occ_view).T"
   ]
  },
  {
   "cell_type": "code",
   "execution_count": null,
   "metadata": {
    "collapsed": true
   },
   "outputs": [],
   "source": [
    "occ_view = {}\n",
    "for occ in np.unique(time[:,-1]):\n",
    "    occ_mask = time[:,-1] == occ\n",
    "    occ_view[occ] = {}\n",
    "    for spectralclass in set(finallabels[occ_mask]):\n",
    "        occ_view[occ][spectralclass] = {}\n",
    "        transmission_levels = soundings[(time[:,-1] == occ) & (finallabels == spectralclass)].mean(axis=1)\n",
    "        altitudes = space[(time[:,-1] == occ) & (finallabels == spectralclass), 0]\n",
    "        occ_view[occ][spectralclass][\"mean_transmissions\"] = transmission_levels\n",
    "        occ_view[occ][spectralclass][\"altitudes\"] = altitudes\n",
    "\n",
    "pd.DataFrame(occ_view).T"
   ]
  },
  {
   "cell_type": "code",
   "execution_count": null,
   "metadata": {
    "collapsed": true
   },
   "outputs": [],
   "source": [
    "pd.DataFrame(occ_view).T[5][-3]"
   ]
  },
  {
   "cell_type": "markdown",
   "metadata": {},
   "source": [
    "# Spectral class view\n",
    "associate classes with altitude, solar longitude, latitude, longitude, mean transmission level"
   ]
  },
  {
   "cell_type": "code",
   "execution_count": null,
   "metadata": {},
   "outputs": [],
   "source": [
    "spectralClass = 5\n",
    "class_mask = majorlabels == spectralClass\n",
    "alt = space[class_mask, 0]\n",
    "lat = space[class_mask, 1]\n",
    "lon = space[class_mask, 2]\n",
    "ls = time[class_mask, 3]\n",
    "mean_transmission = soundings[class_mask].mean(axis=1)\n",
    "occName = time[class_mask, -1]"
   ]
  },
  {
   "cell_type": "code",
   "execution_count": null,
   "metadata": {},
   "outputs": [],
   "source": [
    "np.vstack([alt, lat, occName]).T.shape"
   ]
  },
  {
   "cell_type": "code",
   "execution_count": null,
   "metadata": {},
   "outputs": [],
   "source": [
    "def create_class_view(wav, soundings, space, time, finallabels):\n",
    "    \"\"\"\n",
    "    Create nested dictionary where for each class the spatial and seasonal distribution as well as the mean transmission levels\n",
    "    can be read\n",
    "    \"\"\"\n",
    "    try: os.makedirs(\"../data/out/class_view\")\n",
    "    except FileExistsError: pass\n",
    "    \n",
    "    class_view = {}\n",
    "\n",
    "    for spectralclass in set(finallabels):\n",
    "\n",
    "        class_mask = finallabels == spectralclass\n",
    "        \n",
    "        alt = space[class_mask, 0]\n",
    "        lat = space[class_mask, 1]\n",
    "        lon = space[class_mask, 2]\n",
    "        ls = time[class_mask, 3]\n",
    "        mean_transmission = soundings[class_mask].mean(axis=1)\n",
    "        occName = time[class_mask, -1]\n",
    "        \n",
    "        if spectralclass == 5:\n",
    "            wavs = find_wavelengths(wav, soundings[class_mask])\n",
    "            class_view[spectralclass] = np.vstack([ls, lat, lon, alt, mean_transmission, occName, wavs.T]).T\n",
    "            \n",
    "            pd.DataFrame(class_view[spectralclass]).to_csv(f\"../data/out/class_view/class {spectralclass}.csv\", \n",
    "                                                    index=False, header=[\"ls\", \"lat\", \"lon\", \"alt\", \"mean_transmission\", \n",
    "                                                                         \"filename\", \"primary wavelength\", \n",
    "                                                                         \"secondary wavelength\"])\n",
    "        \n",
    "        else:\n",
    "            class_view[spectralclass] = np.vstack([ls, lat, lon, alt, mean_transmission, occName]).T\n",
    "            pd.DataFrame(class_view[spectralclass]).to_csv(f\"../data/out/class_view/class {spectralclass}.csv\", index=False,\n",
    "                                                    header=[\"ls\", \"lat\", \"lon\", \"alt\", \"mean_transmission\", \"filename\"])\n",
    "        \n",
    "create_class_view(wav, soundings, space, time, finallabels)"
   ]
  },
  {
   "cell_type": "code",
   "execution_count": null,
   "metadata": {},
   "outputs": [],
   "source": [
    "class_view[5]"
   ]
  },
  {
   "cell_type": "code",
   "execution_count": null,
   "metadata": {
    "scrolled": false
   },
   "outputs": [],
   "source": [
    "marsImage = Image.open(\"../mars.png\")\n",
    "fig = plt.figure(figsize=(15,9))\n",
    "ax = fig.add_subplot()\n",
    "ax.grid()\n",
    "ax.set_title(\"Locations of highly periodic soundings\")\n",
    "ax.set_xticks(range(-180, 181, 30))\n",
    "ax.set_yticks(range(-90, 91, 30))\n",
    "ax.set_xlim(-180, 180)\n",
    "ax.set_ylim(-90, 90)\n",
    "    \n",
    "im = ax.scatter(class_view[5][\"lon\"], class_view[5][\"lat\"], c=class_view[5][\"alt\"])\n",
    "fig.colorbar(im, ax=ax)\n",
    "plt.tight_layout()\n",
    "ax.imshow(marsImage, extent=[-180, 180, 90, -90]);"
   ]
  },
  {
   "cell_type": "markdown",
   "metadata": {},
   "source": [
    "# Wavelengths"
   ]
  },
  {
   "cell_type": "code",
   "execution_count": null,
   "metadata": {},
   "outputs": [],
   "source": [
    "def find_wavelengths(wav, soundings):\n",
    "    \"\"\"\n",
    "    Calculate wavelengths present in soundings by using the gradient to calculate peak to trough distances\n",
    "    \"\"\"\n",
    "    dsoundings = np.gradient(soundings, axis=1, edge_order=2)\n",
    "    sign = np.sign(dsoundings)\n",
    "    wavs = []\n",
    "    for i in range(soundings.shape[0]):\n",
    "        count = np.array((np.roll(sign[i], -1) - sign[i])[:-1], dtype=\"bool\")\n",
    "        idx = np.argwhere(count).flatten()\n",
    "        wavs.append((wav[idx] - np.roll(wav[idx], 1))[1:])\n",
    "    \n",
    "    wavs = np.array(wavs, dtype=object)*2\n",
    "    wav1 = np.zeros(soundings.shape[0])\n",
    "    wav2 = np.zeros(soundings.shape[0])\n",
    "    \n",
    "    for i in range(len(wavs)):\n",
    "        try: wav1[i] = wavs[i][0]\n",
    "        except IndexError: wav1[i] = np.NAN\n",
    "        \n",
    "        try: wav2[i] = wavs[i][1]\n",
    "        except IndexError: wav2[i] = np.NAN\n",
    "    \n",
    "    wavs = np.vstack([wav1, wav2]).T\n",
    "        \n",
    "    return wavs"
   ]
  },
  {
   "cell_type": "code",
   "execution_count": null,
   "metadata": {},
   "outputs": [],
   "source": [
    "find_wavelengths(wav, soundings[finallabels==5]).shape"
   ]
  },
  {
   "cell_type": "markdown",
   "metadata": {},
   "source": [
    "# Classify new occultation"
   ]
  },
  {
   "cell_type": "code",
   "execution_count": null,
   "metadata": {},
   "outputs": [],
   "source": [
    "newpath = \"../data/level_1p0a/\""
   ]
  },
  {
   "cell_type": "code",
   "execution_count": null,
   "metadata": {},
   "outputs": [],
   "source": [
    "c = 0\n",
    "new_sounding = soundings[-1]\n",
    "centroidc = model.subcluster_centers_[c]\n",
    "grad, polyres, poly_coeffs, curv = create_features(wav, new_sounding.reshape(1,-1), standardize, \"grad\", \"polyres\", \"poly_coeffs\", \"curv\")"
   ]
  }
 ],
 "metadata": {
  "kernelspec": {
   "display_name": "Python 3",
   "language": "python",
   "name": "python3"
  },
  "language_info": {
   "codemirror_mode": {
    "name": "ipython",
    "version": 3
   },
   "file_extension": ".py",
   "mimetype": "text/x-python",
   "name": "python",
   "nbconvert_exporter": "python",
   "pygments_lexer": "ipython3",
   "version": "3.8.5"
  }
 },
 "nbformat": 4,
 "nbformat_minor": 4
}
