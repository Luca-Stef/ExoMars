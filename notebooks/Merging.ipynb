{
 "cells": [
  {
   "cell_type": "code",
   "execution_count": null,
   "metadata": {},
   "outputs": [],
   "source": [
    "#!/usr/bin/env python3\n",
    "\n",
    "import argparse\n",
    "import os\n",
    "import numpy as np\n",
    "from sklearn.cluster import Birch\n",
    "from PIL import Image\n",
    "import matplotlib.pyplot as plt\n",
    "import shutil\n",
    "import pandas as pd\n",
    "\n",
    "from loader import *\n",
    "from features import *\n",
    "from visualisation import *\n",
    "from merging import *\n",
    "\n",
    "## Loading data ##\n",
    "wav, soundings, shift_std, shift_mean, space, time = load_soundings()\n",
    "centred_soundings = centre(soundings)\n",
    "\n",
    "## Creating features ##\n",
    "grad, polyres, poly_coeffs, curv = create_features(wav, centred_soundings, standardize, \"grad\", \"polyres\", \"poly_coeffs\", \"curv\")\n",
    "\n",
    "features = np.hstack([poly_coeffs[:,0:1], polyres[:,1:2], grad[:,4:5]])\n",
    "\n",
    "combined_features = np.hstack([standardize(centred_soundings), features])\n",
    "\n",
    "## Fitting model ##\n",
    "model = Birch(n_clusters=None, threshold=2.5, branching_factor=50).fit(combined_features)\n",
    "\n",
    "minorlabels = model.labels_"
   ]
  },
  {
   "cell_type": "markdown",
   "metadata": {},
   "source": [
    "###### Change in dispersion"
   ]
  },
  {
   "cell_type": "code",
   "execution_count": null,
   "metadata": {
    "collapsed": true
   },
   "outputs": [],
   "source": [
    "edge_list = []\n",
    "for pair in combinations(np.unique(br.labels_), 2):\n",
    "    cluster1 = combined_features[br.labels_ == pair[0]]\n",
    "    dispersion1 = np.sqrt(np.cov(cluster1.T).trace())\n",
    "    cluster2 = combined_features[br.labels_ == pair[1]]\n",
    "    dispersion2 = np.sqrt(np.cov(cluster2.T).trace())\n",
    "    merged_cluster = np.vstack([cluster1, cluster2])\n",
    "    merged_dispersion = np.sqrt(np.cov(merged_cluster.T).trace())\n",
    "    inc1 = 100*(merged_dispersion - dispersion1)/dispersion1\n",
    "    inc2 = 100*(merged_dispersion - dispersion2)/dispersion2\n",
    "    merged_soundings = np.vstack([centred_soundings[br.labels_ == pair[0]], centred_soundings[br.labels_ == pair[1]]])\n",
    "    \n",
    "    if inc1 < 0 or inc2 < 0:\n",
    "        edge_list.append(pair)\n",
    "        print(f\"{pair} dispersion 1: {dispersion1:.3f} dispersion 2: {dispersion2:.3f} merged dispersion: {merged_dispersion:.3f}\")\n",
    "        print(f\"increase 1: {inc1:.1f}%  increase 2: {inc2:.1f}%\")\n",
    "        plt.plot(wav, merged_soundings.T)\n",
    "        plt.ylim([-0.5, 0.5])\n",
    "        plt.show()"
   ]
  },
  {
   "cell_type": "code",
   "execution_count": null,
   "metadata": {},
   "outputs": [],
   "source": [
    "G = nx.Graph()\n",
    "G.add_nodes_from(np.unique(br.labels_))\n",
    "G.add_edges_from(edge_list)"
   ]
  },
  {
   "cell_type": "code",
   "execution_count": null,
   "metadata": {
    "collapsed": true
   },
   "outputs": [],
   "source": [
    "for igroup, cluster_labels in enumerate(nx.connected_components(G)):\n",
    "    for label in cluster_labels:\n",
    "        print(igroup, cluster_labels, label)"
   ]
  },
  {
   "cell_type": "code",
   "execution_count": null,
   "metadata": {
    "collapsed": true
   },
   "outputs": [],
   "source": [
    "for igroup, cluster_labels in enumerate(nx.connected_components(G)):\n",
    "    for label in cluster_labels:\n",
    "        print(igroup, group, label)\n",
    "        print(f\"group: {label}\")\n",
    "        cluster = centred_soundings[br.labels_ == label]\n",
    "        plt.plot(wav, cluster.T)\n",
    "        plt.ylim([-0.5,0.5])\n",
    "        plt.show()"
   ]
  },
  {
   "cell_type": "code",
   "execution_count": null,
   "metadata": {},
   "outputs": [],
   "source": [
    "for c in np.unique(br.labels_):\n",
    "    for cn in np.unique(br.labels_):\n",
    "        if c != cn:\n",
    "            cluster = combined_features[br.labels_ == pair[0]]"
   ]
  },
  {
   "cell_type": "markdown",
   "metadata": {},
   "source": [
    "###### Maximum change"
   ]
  },
  {
   "cell_type": "code",
   "execution_count": null,
   "metadata": {
    "scrolled": true
   },
   "outputs": [],
   "source": [
    "edge_list = []\n",
    "for pair in combinations(np.unique(br.labels_), 2):\n",
    "    cluster1 = centred_soundings[br.labels_ == pair[0]]\n",
    "    cluster2 = centred_soundings[br.labels_ == pair[1]]\n",
    "\n",
    "    merged_cluster = np.vstack([cluster1, cluster2])\n",
    "    merged_spread = merged_cluster.max(axis=0) - merged_cluster.min(axis=0)\n",
    "    max_spread = merged_spread.max()\n",
    "    \n",
    "    if max_spread < 0.09:\n",
    "        edge_list.append(pair)\n",
    "        print(f\"{pair} max spread: {max_spread}\")\n",
    "        plt.plot(wav, merged_cluster.T)\n",
    "        plt.ylim([-0.5, 0.5])\n",
    "        plt.show()"
   ]
  },
  {
   "cell_type": "code",
   "execution_count": null,
   "metadata": {},
   "outputs": [],
   "source": [
    "G = nx.Graph()\n",
    "G.add_nodes_from(np.unique(br.labels_))\n",
    "G.add_edges_from(edge_list)"
   ]
  },
  {
   "cell_type": "code",
   "execution_count": null,
   "metadata": {},
   "outputs": [],
   "source": [
    "for igroup, cluster_labels in enumerate(nx.connected_components(G)):\n",
    "    for label in cluster_labels:\n",
    "        print(igroup, cluster_labels, label)"
   ]
  },
  {
   "cell_type": "code",
   "execution_count": null,
   "metadata": {
    "scrolled": true
   },
   "outputs": [],
   "source": [
    "view_grouped_soundings(br.labels_, wav, centred_soundings)"
   ]
  },
  {
   "cell_type": "markdown",
   "metadata": {},
   "source": [
    "###### Feature similarity"
   ]
  },
  {
   "cell_type": "code",
   "execution_count": null,
   "metadata": {},
   "outputs": [],
   "source": [
    "edge_list = []\n",
    "for pair in combinations(np.unique(br.labels_), 2):\n",
    "    cluster1 = centred_soundings[br.labels_ == pair[0]]\n",
    "    cluster2 = centred_soundings[br.labels_ == pair[1]]\n",
    "    \n",
    "    feature1 = features[br.labels_ == pair[0],0]\n",
    "    feature2 = features[br.labels_ == pair[1],0]\n",
    "    \n",
    "    feature_avg1 = feature1.mean(axis=0)\n",
    "    feature_avg2 = feature2.mean(axis=0)\n",
    "    \n",
    "    mn = np.where(abs(feature_avg1) < abs(feature_avg2), feature_avg1, feature_avg2)\n",
    "    mx = np.where(abs(feature_avg1) > abs(feature_avg2), feature_avg1, feature_avg2)\n",
    "    sim = mn/mx\n",
    "    \n",
    "    if sim.sum() > 0.9:\n",
    "        edge_list.append(pair)\n",
    "        print(f\"clusters: {pair}\")\n",
    "        print(f\"feature average 1: {feature_avg1}\")\n",
    "        print(f\"feature average 2: {feature_avg2}\")\n",
    "        print(f\"similarity: {sim} sum of similarities: {sim.sum()}\")\n",
    "        plt.plot(wav, cluster1.T)\n",
    "        plt.ylim([-0.5, 0.5])\n",
    "        plt.plot(wav, cluster2.T)\n",
    "        plt.ylim([-0.5,0.5])\n",
    "        plt.show()"
   ]
  },
  {
   "cell_type": "code",
   "execution_count": null,
   "metadata": {},
   "outputs": [],
   "source": [
    "G = nx.Graph()\n",
    "G.add_nodes_from(np.unique(br.labels_))\n",
    "G.add_edges_from(edge_list)"
   ]
  },
  {
   "cell_type": "code",
   "execution_count": null,
   "metadata": {
    "scrolled": false
   },
   "outputs": [],
   "source": [
    "for igroup, cluster_labels in enumerate(nx.connected_components(G)):\n",
    "    for label in cluster_labels:\n",
    "        print(igroup, cluster_labels, label)"
   ]
  },
  {
   "cell_type": "code",
   "execution_count": null,
   "metadata": {
    "scrolled": true
   },
   "outputs": [],
   "source": [
    "clus20 = view_grouped_soundings(br.labels_, wav, centred_soundings, return_cluster=True)"
   ]
  },
  {
   "cell_type": "markdown",
   "metadata": {},
   "source": [
    "###### Manually choosing feature range"
   ]
  },
  {
   "cell_type": "code",
   "execution_count": null,
   "metadata": {
    "scrolled": true
   },
   "outputs": [],
   "source": [
    "set(finallabels)"
   ]
  },
  {
   "cell_type": "code",
   "execution_count": null,
   "metadata": {
    "scrolled": true
   },
   "outputs": [],
   "source": [
    "view_grouped_soundings(br.labels_, wav, centred_soundings)"
   ]
  },
  {
   "cell_type": "code",
   "execution_count": null,
   "metadata": {},
   "outputs": [],
   "source": [
    "def merge_labels(soundings, labels, grad, polyres, poly_coeffs, curv):\n",
    "    \"\"\"\n",
    "    Merges cluster labels into final major classes by considering average features over a cluster\n",
    "\n",
    "    Inputs\n",
    "    labels            Labels as outputted by BIRCH algorithm\n",
    "    grad              gradient calculated by create_features function\n",
    "    polyres           polynomial residual feature array as outputted by create_features function    \n",
    "    poly_coeffs       polynomial coeffiecients feature array    \n",
    "    curv              curvature feature array\n",
    "\n",
    "    Outputs\n",
    "    labels            Merged major labels corresponding to final classes (eg periodic, high gradient)\n",
    "    \"\"\"\n",
    "    flat = []\n",
    "    periodic = []\n",
    "    positive_curvature = []\n",
    "    negative_curvature = []\n",
    "    high_gradient = []\n",
    "    small_gradient = []\n",
    "\n",
    "    for c in np.unique(labels):\n",
    "        \n",
    "        std = soundings[labels==c].std(axis=1).mean()\n",
    "        avg_pres = polyres[labels == c, 0].mean()\n",
    "        avg_pres1 = polyres[labels == c, 1].mean()\n",
    "        avg_pres2 = polyres[labels == c, 2].mean()\n",
    "        avg_pcoeff = poly_coeffs[labels == c, 0].mean()\n",
    "        avg_pcoeff1 = poly_coeffs[labels == c, 1].mean()\n",
    "        avg_pcoeff2 = poly_coeffs[labels == c, 2].mean()\n",
    "        avg_curv = curv[labels == c, 0].mean() + curv[labels == c, 1].mean()\n",
    "        avg_grad = sum([grad[labels == c, i].mean() for i in range(1,3)])\n",
    "        \n",
    "        per_cond = []\n",
    "        per_cond.append((np.array([curv[labels == c, i].mean() for i in range(3)]).min() * \n",
    "                         np.array([curv[labels == c, i].mean() for i in range(3)]).max()) < 0)\n",
    "        per_cond.append((np.array([grad[labels == c, i].mean() for i in range(4)]).min() * \n",
    "                         np.array([grad[labels == c, i].mean() for i in range(4)]).max()) < 0)\n",
    "        per_cond.append(avg_pres1 > 2 or avg_pcoeff < -5 or avg_pcoeff > 3.5)\n",
    "        \n",
    "        pos_curv_cond = []\n",
    "        pos_curv_cond.append(avg_pres1 > 7 or avg_pcoeff < -5 or avg_pcoeff > 3.5)\n",
    "        pos_curv_cond.append(avg_curv > 0)\n",
    "        \n",
    "        if (std < 0.01) and not all(per_cond):\n",
    "            flat.append(c)\n",
    "            \n",
    "        elif all(per_cond):\n",
    "            periodic.append(c)\n",
    "        \n",
    "        elif (avg_pres1 > 5 or avg_pcoeff < -5 or avg_pcoeff > 3.5) and avg_curv > 0:\n",
    "            plt.plot(soundings[labels==c].T)\n",
    "            plt.title(f\"{per_cond}\")\n",
    "            plt.ylim([0,1])\n",
    "            plt.show()\n",
    "            positive_curvature.append(c)\n",
    "            \n",
    "        elif avg_curv > 2:\n",
    "            positive_curvature.append(c)\n",
    "            \n",
    "        elif (avg_pres1 > 5 or avg_pcoeff < -5 or avg_pcoeff > 3.5) and avg_curv < 0:\n",
    "            negative_curvature.append(c)\n",
    "\n",
    "        elif avg_curv < -4 and avg_grad > 2:\n",
    "            negative_curvature.append(c)\n",
    "            \n",
    "        elif avg_grad > 3:\n",
    "            high_gradient.append(c)\n",
    "            \n",
    "        else:\n",
    "            small_gradient.append(c)\n",
    "    \n",
    "    labels2 = np.where(np.in1d(labels, np.array(flat)), 2, labels)\n",
    "    labels2 = np.where(np.in1d(labels, np.array(periodic)), 5, labels2)\n",
    "    labels2 = np.where(np.in1d(labels, np.array(negative_curvature)), 4, labels2)\n",
    "    labels2 = np.where(np.in1d(labels, np.array(positive_curvature)), 6, labels2)\n",
    "    labels2 = np.where(np.in1d(labels, np.array(high_gradient)), 3, labels2)\n",
    "    labels2 = np.where(np.in1d(labels, np.array(small_gradient)), 7, labels2)\n",
    "    \n",
    "    return labels2\n",
    "    \n",
    "def add_flat_labels(soundings, labels):\n",
    "    \"\"\"\n",
    "    Returns three masks for identification of flat soundings above, below, and in atmosphere\n",
    "    \"\"\"\n",
    "    mean = soundings.mean(axis=1)\n",
    "    \n",
    "    above_mask = (mean > 0.99) & (labels==2)\n",
    "    below_mask = (mean < 0.01) & (labels==2)\n",
    "    \n",
    "    labels = np.where(above_mask, 0, labels)\n",
    "    labels = np.where(below_mask, 1, labels)\n",
    "\n",
    "    return labels"
   ]
  },
  {
   "cell_type": "code",
   "execution_count": null,
   "metadata": {
    "scrolled": true
   },
   "outputs": [],
   "source": [
    "majorlabels = merge_labels(soundings, minorlabels, grad, polyres, poly_coeffs, curv)\n",
    "finallabels = add_flat_labels(soundings, majorlabels)"
   ]
  }
 ],
 "metadata": {
  "kernelspec": {
   "display_name": "Python 3.8.5 ('base')",
   "language": "python",
   "name": "python3"
  },
  "language_info": {
   "codemirror_mode": {
    "name": "ipython",
    "version": 3
   },
   "file_extension": ".py",
   "mimetype": "text/x-python",
   "name": "python",
   "nbconvert_exporter": "python",
   "pygments_lexer": "ipython3",
   "version": "3.8.5"
  },
  "vscode": {
   "interpreter": {
    "hash": "c99ec3b06bb2b7a9ce1cfef1038d6bd1f5e5eb8cf3fb3cc6612960f8106f6dac"
   }
  }
 },
 "nbformat": 4,
 "nbformat_minor": 4
}
