{
 "cells": [
  {
   "cell_type": "code",
   "execution_count": null,
   "metadata": {},
   "outputs": [],
   "source": [
    "import rdp\n",
    "import numpy as np\n",
    "import re\n",
    "from PIL import Image\n",
    "import h5py\n",
    "from matplotlib import pyplot as plt\n",
    "from matplotlib import dates\n",
    "from sklearn.cluster import (KMeans, SpectralClustering, AgglomerativeClustering, DBSCAN, OPTICS, Birch, MeanShift,\n",
    "AffinityPropagation)\n",
    "from sklearn.decomposition import PCA\n",
    "from sklearn.mixture import GaussianMixture\n",
    "from sklearn.metrics import mean_squared_error as mse, silhouette_score\n",
    "from glob import glob\n",
    "from peakfinder import detect_peaks\n",
    "from math import floor, ceil\n",
    "from itertools import combinations\n",
    "from datetime import datetime\n",
    "from tqdm import tqdm\n",
    "from features import *\n",
    "from visualisation import *\n",
    "np.set_printoptions(suppress=False)"
   ]
  },
  {
   "cell_type": "code",
   "execution_count": null,
   "metadata": {},
   "outputs": [],
   "source": [
    "wav, soundings, shift_std, shift_mean, space, time = load_soundings(\"../data/level_1p0a/*[I|E].h5\", smoothing=\"poly\")"
   ]
  },
  {
   "cell_type": "code",
   "execution_count": null,
   "metadata": {},
   "outputs": [],
   "source": [
    "centred_soundings = centre(soundings)"
   ]
  },
  {
   "cell_type": "code",
   "execution_count": null,
   "metadata": {},
   "outputs": [],
   "source": [
    "comp_wav, comp_centred_soundings = dropout(wav, centred_soundings, 11)"
   ]
  },
  {
   "cell_type": "code",
   "execution_count": null,
   "metadata": {},
   "outputs": [],
   "source": [
    "grad, polyres, poly_coeffs, curv, gradf = create_features(wav, centred_soundings, standardize, \"grad\", \"polyres\", \"poly_coeffs\", \"curv\", \"gradf\")"
   ]
  },
  {
   "cell_type": "code",
   "execution_count": null,
   "metadata": {},
   "outputs": [],
   "source": [
    "logpolyres = np.log(polyres)/np.log(polyres).std(axis=0)\n",
    "cbrt_poly_coeffs = np.cbrt(poly_coeffs)\n",
    "cbrt_grad = np.cbrt(grad)\n",
    "cbrt_curv = np.cbrt(curv)"
   ]
  },
  {
   "cell_type": "code",
   "execution_count": null,
   "metadata": {},
   "outputs": [],
   "source": [
    "eng_features = np.hstack([poly_coeffs, polyres, grad, curv])\n",
    "att_eng_features = np.hstack([cbrt_poly_coeffs, logpolyres, cbrt_grad, cbrt_curv])"
   ]
  },
  {
   "cell_type": "code",
   "execution_count": null,
   "metadata": {},
   "outputs": [],
   "source": [
    "standardised_combined_features = np.hstack([comp_centred_soundings/comp_centred_soundings.std(axis=0), eng_features])\n",
    "att_standardised_combined_features = np.hstack([comp_centred_soundings/comp_centred_soundings.std(axis=0), att_eng_features])"
   ]
  },
  {
   "cell_type": "code",
   "execution_count": null,
   "metadata": {},
   "outputs": [],
   "source": [
    "index = {\"poly_coeffs3\": poly_coeffs[:,0], \"poly_coeffs2\": poly_coeffs[:,1], \"poly_coeffs1\": poly_coeffs[:,2], \n",
    "         \"polyres1\": polyres[:,0], \"polyres2\": polyres[:,1], \"grad1\": grad[:,0], \"grad2\": grad[:,1], \n",
    "         \"grad3\": grad[:,2], \"grad4\": grad[:,3], \"curv1\": curv[:,0], \"curv2\": curv[:,1], \n",
    "         \"logpolyres1\": logpolyres[:,0], \"logpolyres2\": logpolyres[:,1], \"cbrt_poly_coeffs3\": cbrt_poly_coeffs[:,0], \n",
    "         \"cbrt_poly_coeffs2\": cbrt_poly_coeffs[:,1], \"cbrt_poly_coeffs1\": cbrt_poly_coeffs[:,2], \n",
    "         \"cbrt_grad1\": cbrt_grad[:,0], \"cbrt_grad2\": cbrt_grad[:,1], \"cbrt_grad3\": cbrt_grad[:,2], \n",
    "         \"cbrt_grad4\": cbrt_grad[:,3], \"cbrt_curv1\": cbrt_curv[:,0], \"cbrt_curv2\": cbrt_curv[:,1]}"
   ]
  },
  {
   "cell_type": "code",
   "execution_count": null,
   "metadata": {},
   "outputs": [],
   "source": [
    "m1 = get_mask([polyres[:,1], 5, 10])\n",
    "m2 = get_mask([polyres[:,0], 4, 7])"
   ]
  },
  {
   "cell_type": "code",
   "execution_count": null,
   "metadata": {},
   "outputs": [],
   "source": [
    "soundings[m2|m1].shape"
   ]
  },
  {
   "cell_type": "code",
   "execution_count": null,
   "metadata": {},
   "outputs": [],
   "source": [
    "view_soundings(wav, soundings[m1])"
   ]
  },
  {
   "cell_type": "code",
   "execution_count": null,
   "metadata": {},
   "outputs": [],
   "source": [
    "lat = space[m1][:,1]\n",
    "lon = space[m1][:,2]"
   ]
  },
  {
   "cell_type": "code",
   "execution_count": null,
   "metadata": {},
   "outputs": [],
   "source": [
    "marsImage = Image.open(\"../mars.png\")\n",
    "fig = plt.figure(figsize=(15,9))\n",
    "ax = fig.add_subplot()\n",
    "ax.grid()\n",
    "ax.set_title(\"Locations of highly periodic soundings\")\n",
    "ax.set_xticks(range(-180, 181, 30))\n",
    "ax.set_yticks(range(-90, 91, 30))\n",
    "ax.set_xlim(-180, 180)\n",
    "ax.set_ylim(-90, 90)\n",
    "    \n",
    "ax.scatter(lon, lat)\n",
    "ax.imshow(marsImage, extent=[-180, 180, 90, -90]);"
   ]
  },
  {
   "cell_type": "code",
   "execution_count": null,
   "metadata": {},
   "outputs": [],
   "source": [
    "plt.hist(space[:,0][m1])"
   ]
  },
  {
   "cell_type": "code",
   "execution_count": null,
   "metadata": {},
   "outputs": [],
   "source": [
    "plt.hist(gradf[:,3])"
   ]
  },
  {
   "cell_type": "code",
   "execution_count": null,
   "metadata": {},
   "outputs": [],
   "source": [
    "m5 = gradf[:,3] > 4\n",
    "soundings[m5].shape\n",
    "#view_soundings(wav, soundings[m5])"
   ]
  },
  {
   "cell_type": "code",
   "execution_count": null,
   "metadata": {},
   "outputs": [],
   "source": [
    "# dminmax and ddminmax < 0\n",
    "m3 = gradf[:,0] < 0\n",
    "m4 = gradf[:,2] < 0\n",
    "soundings[m4&m3].shape"
   ]
  },
  {
   "cell_type": "code",
   "execution_count": null,
   "metadata": {
    "scrolled": true
   },
   "outputs": [],
   "source": [
    "# choose number of optima\n",
    "mm = (optimum_counter(soundings[m3&m4], 10)) == 2\n",
    "soundings[m3&m4][mm.flatten()].shape\n",
    "view_soundings(wav, soundings[m3&m4][mm.flatten()][::2])"
   ]
  },
  {
   "cell_type": "code",
   "execution_count": null,
   "metadata": {},
   "outputs": [],
   "source": [
    "dsoundings = np.gradient(soundings, axis=1, edge_order=2)\n",
    "idx = abs(dsoundings).argmax(axis=1)"
   ]
  },
  {
   "cell_type": "code",
   "execution_count": null,
   "metadata": {},
   "outputs": [],
   "source": [
    "dsoundings[np.arange(dsoundings.shape[0]),idx][0]"
   ]
  },
  {
   "cell_type": "code",
   "execution_count": null,
   "metadata": {},
   "outputs": [],
   "source": [
    "def gradient_features(soundings):\n",
    "    \"\"\"\n",
    "    Calculate derivative and second derivative of smoothed soundings and use these to calculate further features \n",
    "    of soundings\n",
    "\n",
    "    Inputs\n",
    "    soundings     array of soundings of shape soundings[sounding,wavelength]\n",
    "\n",
    "    Outputs \n",
    "    dminmax       minimum gradient multiplied by maximum in gradient\n",
    "    dstd          standard deviation of gradient\n",
    "    ddminmax      minimum and maximum of second derviative multiplied together\n",
    "    ddstd         standard deviation of curvature\n",
    "    \"\"\"\n",
    "    dsoundings = np.gradient(soundings, axis=1, edge_order=2)\n",
    "    ddsoundings = np.gradient(dsoundings, axis=1, edge_order=2)\n",
    "    dminmax = dsoundings.max(axis=1) * dsoundings.min(axis=1)\n",
    "    dstd = dsoundings.std(axis=1)\n",
    "    ddminmax = ddsoundings.max(axis=1) * ddsoundings.min(axis=1)\n",
    "    ddstd = ddsoundings.std(axis=1)\n",
    "\n",
    "    return np.vstack([dminmax/dminmax.std(), dstd/dstd.std(), ddminmax/ddminmax.std(), ddstd/ddstd.std()]).T"
   ]
  }
 ],
 "metadata": {
  "kernelspec": {
   "display_name": "Python 3",
   "language": "python",
   "name": "python3"
  },
  "language_info": {
   "codemirror_mode": {
    "name": "ipython",
    "version": 3
   },
   "file_extension": ".py",
   "mimetype": "text/x-python",
   "name": "python",
   "nbconvert_exporter": "python",
   "pygments_lexer": "ipython3",
   "version": "3.8.5"
  }
 },
 "nbformat": 4,
 "nbformat_minor": 4
}
